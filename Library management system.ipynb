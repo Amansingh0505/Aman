{
 "cells": [
  {
   "cell_type": "code",
   "execution_count": 39,
   "id": "016cb734-cd33-47ef-9d92-39aef981339e",
   "metadata": {},
   "outputs": [
    {
     "name": "stdin",
     "output_type": "stream",
     "text": [
      "Please enter your username: \n",
      " Anujk\n",
      "Please enter your password: \n",
      " 222\n"
     ]
    },
    {
     "name": "stdout",
     "output_type": "stream",
     "text": [
      "Login successful\n"
     ]
    },
    {
     "name": "stdin",
     "output_type": "stream",
     "text": [
      "Press 1 to borrow a book &\n",
      "                        press 2 to return a book \n",
      " 1\n",
      "Please enter your name: \n",
      " Anuj\n",
      "Which book you want to borrow, we have ['maths', 'english', 'novels']: \n",
      " maths\n",
      "Please enter the numbers of book you want to borrow: \n",
      " 2\n",
      "Do you want to borrow or return more books? Yes/No no\n"
     ]
    },
    {
     "name": "stdout",
     "output_type": "stream",
     "text": [
      "{'maths': 3, 'english': 6, 'novels': 3}\n",
      "Borrowed books details: {'Anuj': {'maths': 2}}\n"
     ]
    }
   ],
   "source": [
    "users_info = {\"Amansingh\":\"123\",\n",
    "             \"Anujk\":\"222\"}\n",
    "books = {\"maths\":5,\n",
    "        \"english\":6,\n",
    "        \"novels\": 3}\n",
    "book_list = []\n",
    "for i in books:\n",
    "    book_list.append(i)\n",
    "\n",
    "    \n",
    "\n",
    "while True:\n",
    "    ask_username = input(\"Please enter your username: \\n\")\n",
    "\n",
    "    if ask_username in users_info:\n",
    "        ask_password = input(\"Please enter your password: \\n\")\n",
    "        if ask_password == users_info[ask_username]:\n",
    "            print(\"Login successful\")\n",
    "            break\n",
    "        else:\n",
    "            print(\"Please enter valid passowrd\")\n",
    "    else:\n",
    "        print(\"Invalid user name\")\n",
    "\n",
    "borrowed_books = {}\n",
    "while True:\n",
    "    user_input = int(input(\"\"\"Press 1 to borrow a book &\n",
    "                        press 2 to return a book \\n\"\"\"))\n",
    "    \n",
    "    if user_input == 1:\n",
    "        user_name = input(\"Please enter your name: \\n\")\n",
    "        choice = input(f\"Which book you want to borrow, we have {book_list}: \\n\").lower()\n",
    "        number_of_book_B = int(input(\"Please enter the numbers of book you want to borrow: \\n\"))\n",
    "    \n",
    "        books[choice] -= number_of_book_B\n",
    "        borrowed_books[user_name] = {choice:number_of_book_B}\n",
    "        \n",
    "        ask_again = input(\"Do you want to borrow or return more books? Yes/No\").lower()\n",
    "        if ask_again == \"no\":\n",
    "            break\n",
    "        elif ask_again == \"yes\":\n",
    "            pass\n",
    "    \n",
    "    \n",
    "    elif user_input == 2:\n",
    "        user_name = input(\"Please enter your name: \\n\")\n",
    "        choice = input(f\"Which book you want to return, we have {book_list}: \\n\").lower()\n",
    "        number_of_book_R = int(input(\"Please enter the numbers of book you want to return: \\n\"))\n",
    "    \n",
    "        books[choice] += number_of_book_R\n",
    "        borrowed_books[user_name] = {choice:number_of_book_B-number_of_book_R}\n",
    "        \n",
    "        ask_again = input(\"Do you want to borrow orreturn more books? Yes/No \\n\").lower()\n",
    "        if ask_again == \"no\":\n",
    "            break\n",
    "        elif ask_again == \"yes\":\n",
    "            pass\n",
    "            \n",
    "    \n",
    "    else:\n",
    "        \"please choose correct options\"\n",
    "\n",
    "\n",
    "print(books)\n",
    "print(f\"Borrowed books details: {borrowed_books}\")  \n",
    "    \n",
    "        "
   ]
  },
  {
   "cell_type": "code",
   "execution_count": null,
   "id": "a4aa57de-ee97-4009-b5b7-ccb2a1f6055b",
   "metadata": {},
   "outputs": [],
   "source": []
  }
 ],
 "metadata": {
  "kernelspec": {
   "display_name": "Python 3 (ipykernel)",
   "language": "python",
   "name": "python3"
  },
  "language_info": {
   "codemirror_mode": {
    "name": "ipython",
    "version": 3
   },
   "file_extension": ".py",
   "mimetype": "text/x-python",
   "name": "python",
   "nbconvert_exporter": "python",
   "pygments_lexer": "ipython3",
   "version": "3.11.5"
  }
 },
 "nbformat": 4,
 "nbformat_minor": 5
}
