{
 "cells": [
  {
   "cell_type": "code",
   "execution_count": 4,
   "id": "781b51fa-c56e-4521-9422-ce3f9e7c3b3f",
   "metadata": {},
   "outputs": [
    {
     "name": "stdout",
     "output_type": "stream",
     "text": [
      "welcome to Cricket ticket booking system\n",
      "150 seats are available\n"
     ]
    },
    {
     "name": "stdin",
     "output_type": "stream",
     "text": [
      "Hello sir/mam, please enter your name to procced: \n",
      " Aman\n",
      "Please type 'n' for normal seats and 'r' for recliner seats: \n",
      " n\n",
      "how many tickets you want to but?: \n",
      " 151\n"
     ]
    },
    {
     "name": "stdout",
     "output_type": "stream",
     "text": [
      "Sorry, we have only 150 seats left, please order again\n"
     ]
    },
    {
     "name": "stdin",
     "output_type": "stream",
     "text": [
      "Is there any next custumer? Y/N \n",
      " y\n"
     ]
    },
    {
     "name": "stdout",
     "output_type": "stream",
     "text": [
      "welcome to Cricket ticket booking system\n",
      "150 seats are available\n"
     ]
    },
    {
     "name": "stdin",
     "output_type": "stream",
     "text": [
      "Hello sir/mam, please enter your name to procced: \n",
      " Aman\n",
      "Please type 'n' for normal seats and 'r' for recliner seats: \n",
      " n\n",
      "how many tickets you want to but?: \n",
      " 5\n",
      "Do you want to add meals if yes then press,\n",
      "                            'b' for Burger and\n",
      "                            'c' for Cold drink and \n",
      "                            'p' for Pop Corns: \n",
      " b\n",
      "How many meals to add on? \n",
      " 3\n"
     ]
    },
    {
     "name": "stdout",
     "output_type": "stream",
     "text": [
      "-------*--------*--------*--------*------\n",
      "Please have your digital bill and pay accordingly!\n",
      "Customer Name = Aman\n",
      "----------------------------\n",
      "You have to pay = 7650\n",
      "----------------------------\n",
      "-------*--------*--------*--------*------\n"
     ]
    },
    {
     "name": "stdin",
     "output_type": "stream",
     "text": [
      "Is there any next custumer? Y/N \n",
      " n\n"
     ]
    },
    {
     "name": "stdout",
     "output_type": "stream",
     "text": [
      "145 seats are left unsold\n"
     ]
    }
   ],
   "source": [
    "NUMBER_OF_SEATS = 150\n",
    "\n",
    "normal_seat_price = 1500\n",
    "recliner_seat_price = 7500\n",
    "burger = 50\n",
    "cold_drink = 70\n",
    "Pop_corns = 150\n",
    "\n",
    "total = 0\n",
    "\n",
    "def add_meal():\n",
    "    global total\n",
    "    add_on_meal = input(\"\"\"Do you want to add meals if yes then press,\n",
    "                            'b' for Burger and\n",
    "                            'c' for Cold drink and \n",
    "                            'p' for Pop Corns: \\n\"\"\").lower()\n",
    "\n",
    "        \n",
    "\n",
    "    if add_on_meal == \"b\":\n",
    "        number_of_meals = int(input(\"How many meals to add on? \\n\"))\n",
    "        total += burger* number_of_meals\n",
    "        \n",
    "\n",
    "    elif add_on_meal == \"c\":\n",
    "        number_of_meals = int(input(\"How many meals to add on? \\n\"))\n",
    "        total += burger * number_of_meals\n",
    "        \n",
    "\n",
    "    elif add_on_meal == \"p\":\n",
    "        number_of_meals = int(input(\"How many meals to add on? \\n\"))\n",
    "        total += burger * number_of_meals\n",
    "        \n",
    "\n",
    "    else:\n",
    "        pass\n",
    "\n",
    "\n",
    "\n",
    "\n",
    "while True:\n",
    "    print(\"welcome to Cricket ticket booking system\")\n",
    "    print(f\"{NUMBER_OF_SEATS} seats are available\")\n",
    "    customer_name = input(\"Hello sir/mam, please enter your name to procced: \\n\")\n",
    "    \n",
    "    while True:\n",
    "        seat = input(\"Please type 'n' for normal seats and 'r' for recliner seats: \\n\").lower()\n",
    "\n",
    "        \n",
    "\n",
    "        \n",
    "\n",
    "        \n",
    "        if seat == \"n\":\n",
    "            number_of_seats = int(input(\"how many tickets you want to buy?: \\n\"))\n",
    "            if NUMBER_OF_SEATS >= number_of_seats:\n",
    "                total += normal_seat_price * number_of_seats\n",
    "                NUMBER_OF_SEATS -= number_of_seats\n",
    "                add_meal()\n",
    "                \n",
    "            elif NUMBER_OF_SEATS < number_of_seats:\n",
    "                print(f\"Sorry, we have only {NUMBER_OF_SEATS} seats left, please order again\")\n",
    "                break\n",
    "            \n",
    "\n",
    "        elif seat == \"r\":\n",
    "            number_of_seats = int(input(\"how many tickets you want to buy?: \\n\"))\n",
    "            if NUMBER_OF_SEATS >= number_of_seats:\n",
    "                total += recliner_seat_price * number_of_seats\n",
    "                NUMBER_OF_SEATS -= number_of_seats\n",
    "                add_meal()\n",
    "                \n",
    "            elif NUMBER_OF_SEATS < number_of_seats:\n",
    "                print(f\"Sorry, we have only {NUMBER_OF_SEATS} seats left, please order again\")\n",
    "                break\n",
    "           \n",
    "        else:\n",
    "            print(\"please type 'n' or 'r' only\")\n",
    "\n",
    "        \n",
    "\n",
    "        print(\"-------*--------*--------*--------*------\")\n",
    "        print(\"Please have your digital bill and pay accordingly!\")\n",
    "\n",
    "        print(f\"Customer Name = {customer_name}\")\n",
    "        print(\"-\"* 28)\n",
    "        print(f\"You have to pay = {total}\")\n",
    "        print(\"-\"* 28)\n",
    "\n",
    "\n",
    "        print(\"-------*--------*--------*--------*------\")\n",
    "\n",
    "        break\n",
    "\n",
    "    next_Custumer = input(\"Is there any next custumer? Y/N \\n\").lower()\n",
    "\n",
    "    \n",
    "\n",
    "    \n",
    "    if next_Custumer == \"y\" and NUMBER_OF_SEATS == 0:\n",
    "        print(\"We are full now thanks to visit us, please come again!\")\n",
    "\n",
    "    elif next_Custumer == \"y\" :\n",
    "        pass\n",
    "\n",
    "    elif next_Custumer == \"n\":\n",
    "        print(f\"{NUMBER_OF_SEATS} seats are left unsold\")\n",
    "        break\n",
    "\n",
    "        \n",
    "\n"
   ]
  },
  {
   "cell_type": "code",
   "execution_count": null,
   "id": "77b3b1fa-90b6-4524-b773-51bfc2296e37",
   "metadata": {},
   "outputs": [],
   "source": []
  },
  {
   "cell_type": "code",
   "execution_count": null,
   "id": "c4ad8c4a-3b71-4049-af5d-ce8cd7a8c6eb",
   "metadata": {},
   "outputs": [],
   "source": []
  },
  {
   "cell_type": "code",
   "execution_count": null,
   "id": "9e6624ea-cfab-4fbd-a8c7-8341a15cf8c0",
   "metadata": {},
   "outputs": [],
   "source": []
  },
  {
   "cell_type": "code",
   "execution_count": null,
   "id": "59e44362-039e-44e5-9103-655c88aa98f5",
   "metadata": {},
   "outputs": [],
   "source": []
  },
  {
   "cell_type": "code",
   "execution_count": null,
   "id": "744cea67-11a2-4069-adb0-a227c03311ab",
   "metadata": {},
   "outputs": [],
   "source": []
  }
 ],
 "metadata": {
  "kernelspec": {
   "display_name": "Python 3 (ipykernel)",
   "language": "python",
   "name": "python3"
  },
  "language_info": {
   "codemirror_mode": {
    "name": "ipython",
    "version": 3
   },
   "file_extension": ".py",
   "mimetype": "text/x-python",
   "name": "python",
   "nbconvert_exporter": "python",
   "pygments_lexer": "ipython3",
   "version": "3.11.5"
  }
 },
 "nbformat": 4,
 "nbformat_minor": 5
}
